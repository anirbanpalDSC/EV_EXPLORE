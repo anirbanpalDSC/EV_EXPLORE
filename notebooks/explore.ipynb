{
 "cells": [
  {
   "cell_type": "markdown",
   "id": "4f1f3419",
   "metadata": {},
   "source": [
    "# Getting the data\n",
    "\n",
    "Data Source: ([https://microvesicles.org/]https://microvesicles.org/)\n",
    "\n",
    "The SSL certificate of the site is old or misconfigured and does not work with popular browsers (e.g. Chrome, Edge, ect.). Hence, the below alternative is used to download the data.\n",
    "\n",
    "```import requests\n",
    "\n",
    "archives = [\"VESICLEPEDIA_PROTEIN_MRNA_DETAILS_5.1.txt\", \"VESICLEPEDIA_GENE_DETAILS_5.1.txt\"]\n",
    "\n",
    "for a in archives:\n",
    "    url = f\"https://microvesicles.org/Archive/{a}\"\n",
    "    r = requests.get(url, verify=False)  # disable SSL verify only for this call\n",
    "    open(a, \"wb\").write(r.content)```\n"
   ]
  },
  {
   "cell_type": "markdown",
   "id": "0fa186e5",
   "metadata": {},
   "source": [
    "## Data description\n",
    "\n",
    "### VESICLEPEDIA_PROTEIN_MRNA_DETAILS_5.1.txt\n",
    "\n",
    "A curated compendium of molecular data related to extracellular vesicles (EVs) (such as exosomes, microvesicles, and ectosomes).\n",
    "\n",
    "#### 🧬 Purpose\n",
    "\n",
    "Vesiclepedia aggregates experimentally validated molecules that have been identified in extracellular vesicles from various organisms, tissues, and cell types.\n",
    "This particular file (PROTEIN_MRNA_DETAILS_5.1.txt) lists proteins and mRNAs associated with those vesicles.\n",
    "\n",
    "It’s a tab-delimited text file with tens of thousands of rows — each row is an entry describing a protein or mRNA identified in EVs.\n",
    "\n",
    "### Vesiclepedia Protein/mRNA Details (v5.1)\n",
    "\n",
    "| **Column Name**        | **Description**                                                                 |\n",
    "|--------------------------|---------------------------------------------------------------------------------|\n",
    "| **Entry_ID**             | Unique Vesiclepedia identifier for each record                                 |\n",
    "| **Accession**            | Accession number from UniProt, RefSeq, or Ensembl                              |\n",
    "| **Molecule_Name**        | Official name or symbol of the molecule (protein or mRNA)                      |\n",
    "| **Category**             | Type of molecule, e.g., *Protein* or *mRNA*                                    |\n",
    "| **Organism**             | Source organism (e.g., *Homo sapiens*, *Mus musculus*)                         |\n",
    "| **Sample_Type**          | Type of extracellular vesicle (e.g., exosome, microvesicle, ectosome)          |\n",
    "| **Cell_Line_or_Tissue**  | Origin of the sample (e.g., plasma, serum, fibroblast cell line)               |\n",
    "| **Experimental_Method**  | Technique used to identify the molecule (e.g., LC–MS/MS, microarray)           |\n",
    "| **Subcellular_Location** | Reported subcellular or vesicular localization (if available)                  |\n",
    "| **Fold_Change_or_Abundance** | Quantitative value or relative expression (if reported)                   |\n",
    "| **PubMed_ID**            | PubMed reference supporting the identific**_**\n"
   ]
  }
 ],
 "metadata": {
  "kernelspec": {
   "display_name": "ml_env",
   "language": "python",
   "name": "python3"
  },
  "language_info": {
   "codemirror_mode": {
    "name": "ipython",
    "version": 3
   },
   "file_extension": ".py",
   "mimetype": "text/x-python",
   "name": "python",
   "nbconvert_exporter": "python",
   "pygments_lexer": "ipython3",
   "version": "3.11.13"
  }
 },
 "nbformat": 4,
 "nbformat_minor": 5
}
